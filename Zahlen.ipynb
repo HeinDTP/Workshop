{
  "nbformat": 4,
  "nbformat_minor": 0,
  "metadata": {
    "colab": {
      "provenance": []
    },
    "kernelspec": {
      "name": "python3",
      "display_name": "Python 3"
    },
    "language_info": {
      "name": "python"
    }
  },
  "cells": [
    {
      "cell_type": "code",
      "execution_count": null,
      "metadata": {
        "id": "PR78msjyiqLU"
      },
      "outputs": [],
      "source": [
        "import tensorflow\n",
        "from tensorflow.keras.datasets import mnist\n",
        "from tensorflow.keras.models import Sequential\n",
        "from tensorflow.keras.layers import Conv2D, MaxPooling2D, Flatten, Dense, Dropout\n",
        "import numpy\n",
        "from IPython.display import HTML\n",
        "from google.colab.output import eval_js\n",
        "from base64 import b64decode\n",
        "from io import BytesIO\n",
        "from PIL import Image\n",
        "from scipy import ndimage\n",
        "import math\n",
        "import cv2\n",
        "import warnings\n",
        "warnings.filterwarnings(\"ignore\", category=DeprecationWarning) \n",
        "\n",
        "canvas_html = \"\"\"\n",
        "<canvas width=%d height=%d></canvas>\n",
        "<button>Finish</button>\n",
        "<script>\n",
        "var canvas = document.querySelector('canvas')\n",
        "var ctx = canvas.getContext('2d')\n",
        "ctx.lineWidth = %d\n",
        "var button = document.querySelector('button')\n",
        "var mouse = {x: 0, y: 0}\n",
        "\n",
        "canvas.addEventListener('mousemove', function(e) {\n",
        "  mouse.x = e.pageX - this.offsetLeft\n",
        "  mouse.y = e.pageY - this.offsetTop\n",
        "})\n",
        "canvas.onmousedown = ()=>{\n",
        "  ctx.beginPath()\n",
        "  ctx.moveTo(mouse.x, mouse.y)\n",
        "  canvas.addEventListener('mousemove', onPaint)\n",
        "}\n",
        "canvas.onmouseup = ()=>{\n",
        "  canvas.removeEventListener('mousemove', onPaint)\n",
        "}\n",
        "var onPaint = ()=>{\n",
        "  ctx.lineTo(mouse.x, mouse.y)\n",
        "  ctx.stroke()\n",
        "}\n",
        "\n",
        "var data = new Promise(resolve=>{\n",
        "  button.onclick = ()=>{\n",
        "    resolve(canvas.toDataURL('image/png'))\n",
        "  }\n",
        "})\n",
        "\n",
        "\n",
        "</script>\n",
        "\"\"\"\n",
        "\n",
        "def draw(filename='drawing.png', w=280, h=280, line_width=10):\n",
        "  display(HTML(canvas_html % (w, h, line_width)))\n",
        "  data = eval_js(\"data\")\n",
        "  data_url = data.split(',')[1]\n",
        "  img_bytes = b64decode(data_url)\n",
        "  img = Image.open(BytesIO(img_bytes))\n",
        "  img  = numpy.array(img)\n",
        "  b,g,r,img = cv2.split(img)\n",
        "\n",
        "  return img\n",
        "\n",
        "def getBestShift(img):\n",
        "    cy,cx = ndimage.measurements.center_of_mass(img)\n",
        "\n",
        "    rows,cols = img.shape\n",
        "    shiftx = numpy.round(cols/2.0-cx).astype(int)\n",
        "    shifty = numpy.round(rows/2.0-cy).astype(int)\n",
        "\n",
        "    return shiftx,shifty\n",
        "\n",
        "def shift(img,sx,sy):\n",
        "    rows,cols = img.shape\n",
        "    M = numpy.float32([[1,0,sx],[0,1,sy]])\n",
        "    shifted = cv2.warpAffine(img,M,(cols,rows))\n",
        "    return shifted\n",
        "\n",
        "def score_gray(gray):\n",
        "    (thresh, gray) = cv2.threshold(gray, 128, 255, cv2.THRESH_BINARY | cv2.THRESH_OTSU)\n",
        "    while numpy.sum(gray[0]) == 0:\n",
        "        gray = gray[1:]\n",
        "\n",
        "    while numpy.sum(gray[:,0]) == 0:\n",
        "        gray = numpy.delete(gray,0,1)\n",
        "\n",
        "    while numpy.sum(gray[-1]) == 0:\n",
        "        gray = gray[:-1]\n",
        "\n",
        "    while numpy.sum(gray[:,-1]) == 0:\n",
        "        gray = numpy.delete(gray,-1,1)\n",
        "    rows,cols = gray.shape\n",
        "\n",
        "    if rows > cols:\n",
        "        factor = 20.0/rows\n",
        "        rows = 20\n",
        "        cols = int(round(cols*factor))\n",
        "        gray = cv2.resize(gray, (cols,rows))\n",
        "    else:\n",
        "        factor = 20.0/cols\n",
        "        cols = 20\n",
        "        rows = int(round(rows*factor))\n",
        "        gray = cv2.resize(gray, (cols, rows))\n",
        "\n",
        "    colsPadding = (int(math.ceil((28-cols)/2.0)),int(math.floor((28-cols)/2.0)))\n",
        "    rowsPadding = (int(math.ceil((28-rows)/2.0)),int(math.floor((28-rows)/2.0)))\n",
        "    gray = numpy.lib.pad(gray,(rowsPadding,colsPadding),'constant')\n",
        "    shiftx,shifty = getBestShift(gray)\n",
        "    shifted = shift(gray,shiftx,shifty)\n",
        "    gray = shifted\n",
        "\n",
        "    gray = gray.astype('float32')\n",
        "    gray /= 255\n",
        "    gray = gray.reshape(28,28,1)\n",
        "    gray = numpy.array([gray])\n",
        "\n",
        "    pred = model.predict(gray)[0]\n",
        "    max = 0\n",
        "    index = -1\n",
        "    for j in range(10):\n",
        "        if pred[j] > max:\n",
        "            max = pred[j]\n",
        "            index = j\n",
        "    print('Prediction: ', index)\n",
        "    print('Certainty:  ', pred[index])\n",
        "\n",
        "    return index, pred[index]\n",
        "\n",
        "seed=0\n",
        "numpy.random.seed(seed)\n",
        "tensorflow.keras.utils.set_random_seed(seed)"
      ]
    },
    {
      "cell_type": "markdown",
      "source": [
        "# Neuer Abschnitt"
      ],
      "metadata": {
        "id": "e9Wvo_WK1aPO"
      }
    },
    {
      "cell_type": "code",
      "source": [
        "num_class = 10\n",
        "\n",
        "(x_train, y_train), (x_test, y_test) = mnist.load_data()\n",
        "img_rows, img_cols = x_train[0].shape\n",
        "\n",
        "x_train = x_train.reshape(x_train.shape[0], img_rows, img_cols, 1)\n",
        "x_test = x_test.reshape(x_test.shape[0], img_rows, img_cols, 1)\n",
        "\n",
        "input_shape = (img_rows, img_cols, 1)\n",
        "\n",
        "x_train = x_train.astype('float32')\n",
        "x_test = x_test.astype('float32')\n",
        "\n",
        "x_train /= 255\n",
        "x_test /= 255\n",
        "\n",
        "y_train = tensorflow.keras.utils.to_categorical(y_train, num_class)\n",
        "y_test = tensorflow.keras.utils.to_categorical(y_test, num_class)"
      ],
      "metadata": {
        "id": "SCU2puDiJ5s4"
      },
      "execution_count": null,
      "outputs": []
    },
    {
      "cell_type": "code",
      "source": [
        "model = Sequential()\n",
        "model.add(Conv2D(8, kernel_size= (3,3), activation='ReLU', input_shape=input_shape))\n",
        "model.add(MaxPooling2D(pool_size=(2,2)))\n",
        "model.add(Flatten())\n",
        "model.add(Dense(64,activation='ReLU'))\n",
        "model.add(Dense(num_class,activation='softmax'))\n",
        "\n",
        "model.compile(optimizer='adam', loss='categorical_crossentropy', metrics=['accuracy'])"
      ],
      "metadata": {
        "id": "qqt10M2MLO-g"
      },
      "execution_count": null,
      "outputs": []
    },
    {
      "cell_type": "code",
      "source": [
        "model.fit(x_train, y_train, epochs=3)"
      ],
      "metadata": {
        "colab": {
          "base_uri": "https://localhost:8080/"
        },
        "id": "upnQ6Y-SLf_6",
        "outputId": "bf1e4a25-6bc9-4608-e032-18bf0f00a231"
      },
      "execution_count": null,
      "outputs": [
        {
          "output_type": "stream",
          "name": "stdout",
          "text": [
            "Epoch 1/3\n",
            "1875/1875 [==============================] - 14s 7ms/step - loss: 0.2360 - accuracy: 0.9320\n",
            "Epoch 2/3\n",
            "1875/1875 [==============================] - 14s 7ms/step - loss: 0.0950 - accuracy: 0.9718\n",
            "Epoch 3/3\n",
            "1875/1875 [==============================] - 14s 7ms/step - loss: 0.0618 - accuracy: 0.9815\n"
          ]
        },
        {
          "output_type": "execute_result",
          "data": {
            "text/plain": [
              "<keras.callbacks.History at 0x7f347ed92bb0>"
            ]
          },
          "metadata": {},
          "execution_count": 5
        }
      ]
    },
    {
      "cell_type": "code",
      "source": [
        "model.evaluate(x_test, y_test, verbose=1)"
      ],
      "metadata": {
        "colab": {
          "base_uri": "https://localhost:8080/"
        },
        "id": "SmCAzbt2OjPe",
        "outputId": "f5934d23-9f88-46e4-d842-daf871fd45e2"
      },
      "execution_count": null,
      "outputs": [
        {
          "output_type": "stream",
          "name": "stdout",
          "text": [
            "313/313 [==============================] - 1s 3ms/step - loss: 0.0644 - accuracy: 0.9782\n"
          ]
        },
        {
          "output_type": "execute_result",
          "data": {
            "text/plain": [
              "[0.0643952265381813, 0.9782000184059143]"
            ]
          },
          "metadata": {},
          "execution_count": 6
        }
      ]
    },
    {
      "cell_type": "code",
      "source": [
        "img = draw()\n",
        "score_gray(img)"
      ],
      "metadata": {
        "colab": {
          "base_uri": "https://localhost:8080/",
          "height": 374
        },
        "id": "CmFiDCO-e9jb",
        "outputId": "7cb181ed-ddce-461a-ceda-8384f052fe4d"
      },
      "execution_count": null,
      "outputs": [
        {
          "output_type": "display_data",
          "data": {
            "text/plain": [
              "<IPython.core.display.HTML object>"
            ],
            "text/html": [
              "\n",
              "<canvas width=280 height=280></canvas>\n",
              "<button>Finish</button>\n",
              "<script>\n",
              "var canvas = document.querySelector('canvas')\n",
              "var ctx = canvas.getContext('2d')\n",
              "ctx.lineWidth = 10\n",
              "var button = document.querySelector('button')\n",
              "var mouse = {x: 0, y: 0}\n",
              "\n",
              "canvas.addEventListener('mousemove', function(e) {\n",
              "  mouse.x = e.pageX - this.offsetLeft\n",
              "  mouse.y = e.pageY - this.offsetTop\n",
              "})\n",
              "canvas.onmousedown = ()=>{\n",
              "  ctx.beginPath()\n",
              "  ctx.moveTo(mouse.x, mouse.y)\n",
              "  canvas.addEventListener('mousemove', onPaint)\n",
              "}\n",
              "canvas.onmouseup = ()=>{\n",
              "  canvas.removeEventListener('mousemove', onPaint)\n",
              "}\n",
              "var onPaint = ()=>{\n",
              "  ctx.lineTo(mouse.x, mouse.y)\n",
              "  ctx.stroke()\n",
              "}\n",
              "\n",
              "var data = new Promise(resolve=>{\n",
              "  button.onclick = ()=>{\n",
              "    resolve(canvas.toDataURL('image/png'))\n",
              "  }\n",
              "})\n",
              "\n",
              "\n",
              "</script>\n"
            ]
          },
          "metadata": {}
        },
        {
          "output_type": "stream",
          "name": "stdout",
          "text": [
            "1/1 [==============================] - 0s 16ms/step\n",
            "Prediction:  8\n",
            "Certainty:   0.99640465\n"
          ]
        },
        {
          "output_type": "execute_result",
          "data": {
            "text/plain": [
              "(8, 0.99640465)"
            ]
          },
          "metadata": {},
          "execution_count": 9
        }
      ]
    },
    {
      "cell_type": "markdown",
      "source": [],
      "metadata": {
        "id": "Tp2XWo0ULKQJ"
      }
    }
  ]
}